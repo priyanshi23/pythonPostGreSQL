{
  "nbformat": 4,
  "nbformat_minor": 0,
  "metadata": {
    "colab": {
      "provenance": [],
      "authorship_tag": "ABX9TyPv3CHw6cbBsACEAktgNkU9",
      "include_colab_link": true
    },
    "kernelspec": {
      "name": "python3",
      "display_name": "Python 3"
    },
    "language_info": {
      "name": "python"
    }
  },
  "cells": [
    {
      "cell_type": "markdown",
      "metadata": {
        "id": "view-in-github",
        "colab_type": "text"
      },
      "source": [
        "<a href=\"https://colab.research.google.com/github/priyanshi23/pythonPostGreSQL/blob/main/datascience.ipynb\" target=\"_parent\"><img src=\"https://colab.research.google.com/assets/colab-badge.svg\" alt=\"Open In Colab\"/></a>"
      ]
    },
    {
      "cell_type": "code",
      "source": [
        "!apt install postgresql postgresql-contrib &>log\n",
        "!service postgresql start\n",
        "!sudo -u postgres psql -c \"CREATE USER root WITH SUPERUSER\"\n",
        "%load_ext sql\n",
        "%config SqlMagic.feedback=False\n",
        "%config SqlMagic.autopandas=True\n",
        "%sql postgresql+psycopg2://@/postgres"
      ],
      "metadata": {
        "id": "qPFmtfptKR-g"
      },
      "execution_count": null,
      "outputs": []
    },
    {
      "source": [
        "!psql -h mydb.cji2oays8va9.eu-north-1.rds.amazonaws.com -U root_user -d myDB"
      ],
      "cell_type": "code",
      "metadata": {
        "id": "VHWR2an3MBFw"
      },
      "execution_count": null,
      "outputs": []
    },
    {
      "cell_type": "code",
      "source": [
        "import os\n",
        "import numpy as np\n",
        "import pandas as pd\n",
        "import psycopg2"
      ],
      "metadata": {
        "id": "0xL9uzv7qwhd"
      },
      "execution_count": 42,
      "outputs": []
    },
    {
      "cell_type": "code",
      "source": [
        "df = pd.read_csv(\"SouthAfricaDevelopmentIndicators.csv\")\n",
        "df.head()"
      ],
      "metadata": {
        "id": "0Vy1fO5-rHu8"
      },
      "execution_count": null,
      "outputs": []
    },
    {
      "cell_type": "code",
      "source": [
        "#clean table name\n",
        "#lower case letters\n",
        "#remove data with spaces\n",
        "#replace -,/,\\\\.#,% with _\n",
        "file = \"SouthAfricaDevelopmentIndicators\"\n",
        "clean_tbl_name = file.lower().replace(\"%\",\"value in percentage\").replace(\" \",\"_\")\n",
        "clean_tbl_name"
      ],
      "metadata": {
        "id": "A1LevKKgtj_Y"
      },
      "execution_count": null,
      "outputs": []
    },
    {
      "cell_type": "code",
      "source": [
        "#clean header names\n",
        "#lower case letters\n",
        "#remove data with spaces\n",
        "#replace -,/,\\\\.#,% with _\n",
        "\n",
        "df.columns = [x.upper().replace(\"%\",\"value in percentage\").replace(\" \",\"_\") for x in df.columns]\n",
        "\n",
        "df.columns"
      ],
      "metadata": {
        "id": "pEyYqhaNw952"
      },
      "execution_count": null,
      "outputs": []
    },
    {
      "cell_type": "code",
      "source": [
        "replacements = {\n",
        "    'object' : 'varchar',\n",
        "    'float64' : 'float',\n",
        "    'datetime64' : 'timestamp'\n",
        "}\n",
        "\n",
        "replacements"
      ],
      "metadata": {
        "id": "UM7jgtFNyFhe"
      },
      "execution_count": null,
      "outputs": []
    },
    {
      "cell_type": "code",
      "source": [
        "col_str = \", \".join(\"{} {}\".format(n,d) for (n,d) in zip(df.columns,df.dtypes.replace(replacements)))\n",
        "col_str"
      ],
      "metadata": {
        "colab": {
          "base_uri": "https://localhost:8080/",
          "height": 36
        },
        "id": "QzN1o9s-1NmZ",
        "outputId": "5a18fc62-2d48-4886-a9d8-ca31c3fed145"
      },
      "execution_count": 47,
      "outputs": [
        {
          "output_type": "execute_result",
          "data": {
            "text/plain": [
              "'LOCATION,\"INDICATOR\",\"SUBGROUP\",\"UNIT\",\"DATE\",\"VALUE\" varchar'"
            ],
            "application/vnd.google.colaboratory.intrinsic+json": {
              "type": "string"
            }
          },
          "metadata": {},
          "execution_count": 47
        }
      ]
    },
    {
      "cell_type": "code",
      "source": [
        "#open database connection\n",
        "import psycopg2\n",
        "conn_string = \"host = mydb.cji2oays8va9.eu-north-1.rds.amazonaws.com \\\n",
        "                dbname ='myDB' user='root_user' password='166Fantastic\\\\!'\"\n",
        "conn = psycopg2.connect(conn_string)\n",
        "cursor = conn.cursor()\n",
        "print(\"opened datbase sucessfully\")"
      ],
      "metadata": {
        "colab": {
          "base_uri": "https://localhost:8080/"
        },
        "id": "iLUwuEZfLDan",
        "outputId": "53426206-fe7a-4020-e6d8-605758762913"
      },
      "execution_count": 48,
      "outputs": [
        {
          "output_type": "stream",
          "name": "stdout",
          "text": [
            "opened datbase sucessfully\n"
          ]
        }
      ]
    },
    {
      "cell_type": "code",
      "source": [
        "#drop tables with the same name\n",
        "cursor.execute(\"drop table if exists South_African_Stats;\")"
      ],
      "metadata": {
        "id": "x_EUjvmfkwpQ"
      },
      "execution_count": 49,
      "outputs": []
    },
    {
      "cell_type": "code",
      "source": [
        "#create table\n",
        "cursor.execute(\"create table South_African_Stats(LOCATION varchar,INDICATOR varchar,SUBGROUP varchar,UNIT float,DATE date,VALUE varchar)\")\n"
      ],
      "metadata": {
        "id": "lH-LbiNolZZ1"
      },
      "execution_count": 50,
      "outputs": []
    },
    {
      "cell_type": "code",
      "source": [
        "#insert values to table\n",
        "\n",
        "#save df to csv\n",
        "import pandas as pd\n",
        "df = pd.read_csv(\"SouthAfricaDevelopmentIndicators.csv\")\n",
        "df.to_csv('SouthAfricaDevelopmentIndicators.csv',header=df.columns,index=False,encoding='utf-8')\n",
        "\n",
        "#open csv file.Save it as a object and upload it to db\n",
        "my_file = open('SouthAfricaDevelopmentIndicators.csv')\n",
        "print('file opened in memory')\n"
      ],
      "metadata": {
        "id": "M1jtzHOupE_7",
        "colab": {
          "base_uri": "https://localhost:8080/"
        },
        "outputId": "ffc73097-ecfe-4910-94d2-aad2d2736e2a"
      },
      "execution_count": 51,
      "outputs": [
        {
          "output_type": "stream",
          "name": "stdout",
          "text": [
            "file opened in memory\n"
          ]
        }
      ]
    },
    {
      "cell_type": "code",
      "source": [
        "#upload to db\n",
        "cursor.execute(\"COMMIT\")\n",
        "sql_statement = \"\"\"\n",
        "                COPY South_African_Stats FROM STDIN WITH\n",
        "                 CSV\n",
        "                 HEADER\n",
        "                 DELIMITER AS ','\n",
        "                     \"\"\"\n",
        "cursor.copy_expert(sql=sql_statement,file=my_file)\n",
        "print(\"file copied to db\")"
      ],
      "metadata": {
        "id": "r_Nl6nkIsWRK",
        "colab": {
          "base_uri": "https://localhost:8080/"
        },
        "outputId": "e1977f4e-0469-48d4-a710-bd379e694089"
      },
      "execution_count": 56,
      "outputs": [
        {
          "output_type": "stream",
          "name": "stdout",
          "text": [
            "file copied to db\n"
          ]
        }
      ]
    },
    {
      "cell_type": "code",
      "source": [
        "cursor.execute(\"grant select on South_African_Stats to public\")\n",
        "conn.commit()\n",
        "cursor.close()\n",
        "print(\"table South_African_Stats imported to db completed\")"
      ],
      "metadata": {
        "id": "xSWXRkhDImRx"
      },
      "execution_count": null,
      "outputs": []
    }
  ]
}